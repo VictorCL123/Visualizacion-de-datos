{
 "cells": [
  {
   "cell_type": "code",
   "execution_count": 1,
   "metadata": {},
   "outputs": [],
   "source": [
    "import matplotlib.pyplot as plt\n",
    "import numpy as np"
   ]
  },
  {
   "cell_type": "code",
   "execution_count": 2,
   "metadata": {},
   "outputs": [],
   "source": [
    "x1 = [4,5,6,7,8,9,10,11,12,13,14]\n",
    "y1 = [4.26,5.68,7.24,4.82,6.95,8.81,8.04,8.33,10.84,7.58,9.96]"
   ]
  },
  {
   "cell_type": "code",
   "execution_count": 3,
   "metadata": {},
   "outputs": [],
   "source": [
    "x2 = [4,5,6,7,8,9,10,11,12,13,14]\n",
    "y2 = [3.1,4.74,6.13,7.26,8.14,8.77,9.14,9.26,9.13,8.74,8.1]"
   ]
  },
  {
   "cell_type": "code",
   "execution_count": 4,
   "metadata": {},
   "outputs": [],
   "source": [
    "x3 = [4,5,6,7,8,9,10,11,12,13,14]\n",
    "y3 = [5.39,5.73,6.08,6.42,6.77,7.11,7.46,7.81,8.15,12.74,8.84]"
   ]
  },
  {
   "cell_type": "code",
   "execution_count": 5,
   "metadata": {},
   "outputs": [],
   "source": [
    "x4 = [8,8,8,8,8,8,8,8,8,8,19]\n",
    "y4 = [6.58,5.76,7.71,8.84,8.47,7.04,5.25,5.56,7.91,6.89,12.5]"
   ]
  },
  {
   "cell_type": "code",
   "execution_count": 6,
   "metadata": {},
   "outputs": [
    {
     "name": "stdout",
     "output_type": "stream",
     "text": [
      "[4, 5, 6, 7, 8, 9, 10, 11, 12, 13, 14]\n",
      "[4.26, 5.68, 7.24, 4.82, 6.95, 8.81, 8.04, 8.33, 10.84, 7.58, 9.96]\n",
      "media(x): 9.0\n",
      "varianza(x): 10.0\n",
      "media(y): 7.50090909090909\n",
      "varianza(y): 3.7520628099173563\n",
      "\n",
      "[4, 5, 6, 7, 8, 9, 10, 11, 12, 13, 14]\n",
      "[3.1, 4.74, 6.13, 7.26, 8.14, 8.77, 9.14, 9.26, 9.13, 8.74, 8.1]\n",
      "media(x): 9.0\n",
      "varianza(x): 10.0\n",
      "media(y): 7.50090909090909\n",
      "varianza(y): 3.752390082644629\n",
      "\n",
      "[4, 5, 6, 7, 8, 9, 10, 11, 12, 13, 14]\n",
      "[5.39, 5.73, 6.08, 6.42, 6.77, 7.11, 7.46, 7.81, 8.15, 12.74, 8.84]\n",
      "media(x): 9.0\n",
      "varianza(x): 10.0\n",
      "media(y): 7.50090909090909\n",
      "varianza(y): 3.7520628099173563\n",
      "\n",
      "[8, 8, 8, 8, 8, 8, 8, 8, 8, 8, 19]\n",
      "[6.58, 5.76, 7.71, 8.84, 8.47, 7.04, 5.25, 5.56, 7.91, 6.89, 12.5]\n",
      "media(x): 9.0\n",
      "varianza(x): 10.0\n",
      "media(y): 7.50090909090909\n",
      "varianza(y): 3.7520628099173563\n"
     ]
    }
   ],
   "source": [
    "print(x1)\n",
    "print(y1)\n",
    "print(\"media(x): \"+str(np.mean(x1)))\n",
    "print(\"varianza(x): \"+str(np.var(x1)))\n",
    "print(\"media(y): \"+str(np.mean(y1)))\n",
    "print(\"varianza(y): \"+str(np.var(y1)))\n",
    "print()\n",
    "print(x2)\n",
    "print(y2)\n",
    "print(\"media(x): \"+str(np.mean(x2)))\n",
    "print(\"varianza(x): \"+str(np.var(x2)))\n",
    "print(\"media(y): \"+str(np.mean(y2)))\n",
    "print(\"varianza(y): \"+str(np.var(y2)))\n",
    "print()\n",
    "print(x3)\n",
    "print(y3)\n",
    "print(\"media(x): \"+str(np.mean(x3)))\n",
    "print(\"varianza(x): \"+str(np.var(x3)))\n",
    "print(\"media(y): \"+str(np.mean(y1)))\n",
    "print(\"varianza(y): \"+str(np.var(y1)))\n",
    "print()\n",
    "print(x4)\n",
    "print(y4)\n",
    "print(\"media(x): \"+str(np.mean(x1)))\n",
    "print(\"varianza(x): \"+str(np.var(x1)))\n",
    "print(\"media(y): \"+str(np.mean(y1)))\n",
    "print(\"varianza(y): \"+str(np.var(y1)))"
   ]
  },
  {
   "cell_type": "code",
   "execution_count": 12,
   "metadata": {},
   "outputs": [
    {
     "data": {
      "image/png": "[encoded data removed]",
      "text/plain": [
       "<Figure size 432x288 with 4 Axes>"
      ]
     },
     "metadata": {
      "needs_background": "light"
     },
     "output_type": "display_data"
    }
   ],
   "source": [
    "plt.subplot(221)\n",
    "plt.scatter(x1, y1)\n",
    "plt.plot(np.arange(1,22,1),[.5*x+3 for x in np.arange(1,22,1)])\n",
    "\n",
    "plt.subplot(222)\n",
    "plt.scatter(x2, y2)\n",
    "plt.plot(np.arange(1,22,1),[.5*x+3 for x in np.arange(1,22,1)])\n",
    "\n",
    "plt.subplot(223)\n",
    "plt.scatter(x3, y3)\n",
    "plt.plot(np.arange(1,22,1),[.5*x+3 for x in np.arange(1,22,1)])\n",
    "\n",
    "plt.subplot(224)\n",
    "plt.scatter(x4, y4)\n",
    "plt.plot(np.arange(1,22,1),[.5*x+3 for x in np.arange(1,22,1)])\n",
    "\n",
    "plt.show()"
   ]
  },
  {
   "cell_type": "code",
   "execution_count": null,
   "metadata": {},
   "outputs": [],
   "source": []
  }
 ],
 "metadata": {
  "kernelspec": {
   "display_name": "Python 3",
   "language": "python",
   "name": "python3"
  },
  "language_info": {
   "codemirror_mode": {
    "name": "ipython",
    "version": 3
   },
   "file_extension": ".py",
   "mimetype": "text/x-python",
   "name": "python",
   "nbconvert_exporter": "python",
   "pygments_lexer": "ipython3",
   "version": "3.6.8"
  }
 },
 "nbformat": 4,
 "nbformat_minor": 2
}
